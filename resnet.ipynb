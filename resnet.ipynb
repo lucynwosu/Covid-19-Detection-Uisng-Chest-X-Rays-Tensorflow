{
 "cells": [
  {
   "cell_type": "markdown",
   "metadata": {},
   "source": [
    "# Lucy's Work - Covid-19 Detection - ResNet50"
   ]
  },
  {
   "cell_type": "code",
   "execution_count": 2,
   "metadata": {
    "_cell_guid": "b1076dfc-b9ad-4769-8c92-a6c4dae69d19",
    "_uuid": "8f2839f25d086af736a60e9eeb907d3b93b6e0e5",
    "execution": {
     "iopub.execute_input": "2020-10-13T03:21:49.069590Z",
     "iopub.status.busy": "2020-10-13T03:21:49.062890Z",
     "iopub.status.idle": "2020-10-13T03:21:55.445542Z",
     "shell.execute_reply": "2020-10-13T03:21:55.447131Z"
    },
    "papermill": {
     "duration": 6.422274,
     "end_time": "2020-10-13T03:21:55.447504",
     "exception": false,
     "start_time": "2020-10-13T03:21:49.025230",
     "status": "completed"
    },
    "tags": []
   },
   "outputs": [],
   "source": [
    "\n",
    "import numpy as np \n",
    "import pandas as pd \n",
    "import tensorboard\n",
    "import tensorflow as tf\n",
    "\n",
    "from tensorflow.keras.preprocessing.image import ImageDataGenerator,load_img, img_to_array\n",
    "from tensorflow.keras.models import Sequential, Model\n",
    "from tensorflow.keras.layers import Conv2D, MaxPooling2D,GlobalAveragePooling2D\n",
    "from tensorflow.keras.layers import Activation, Dropout, BatchNormalization, Flatten, Dense, AvgPool2D,MaxPool2D\n",
    "from tensorflow.keras.models import Sequential, Model\n",
    "from tensorflow.keras.applications.vgg16 import VGG16, preprocess_input\n",
    "from tensorflow.keras.optimizers import Adam, SGD, RMSprop\n",
    "\n",
    "import os\n",
    "import numpy as np\n",
    "import pandas as pd\n",
    "import seaborn as sns\n",
    "import matplotlib.pyplot as plt\n",
    "%matplotlib inline\n",
    "\n",
    "import glob\n",
    "import matplotlib.pyplot as plt\n",
    "import matplotlib.image as mpimg\n",
    "%matplotlib inline\n"
   ]
  },
  {
   "cell_type": "code",
   "execution_count": 3,
   "metadata": {
    "_cell_guid": "79c7e3d0-c299-4dcb-8224-4455121ee9b0",
    "_uuid": "d629ff2d2480ee46fbb7e2d37f6b5fab8052498a",
    "execution": {
     "iopub.execute_input": "2020-10-13T03:21:55.535474Z",
     "iopub.status.busy": "2020-10-13T03:21:55.534713Z",
     "iopub.status.idle": "2020-10-13T03:21:55.538848Z",
     "shell.execute_reply": "2020-10-13T03:21:55.537681Z"
    },
    "papermill": {
     "duration": 0.027702,
     "end_time": "2020-10-13T03:21:55.538951",
     "exception": false,
     "start_time": "2020-10-13T03:21:55.511249",
     "status": "completed"
    },
    "tags": []
   },
   "outputs": [],
   "source": [
    "data = './dataset'"
   ]
  },
  {
   "cell_type": "code",
   "execution_count": 4,
   "metadata": {
    "execution": {
     "iopub.execute_input": "2020-10-13T03:21:55.583077Z",
     "iopub.status.busy": "2020-10-13T03:21:55.582468Z",
     "iopub.status.idle": "2020-10-13T03:21:55.589949Z",
     "shell.execute_reply": "2020-10-13T03:21:55.589486Z"
    },
    "papermill": {
     "duration": 0.030909,
     "end_time": "2020-10-13T03:21:55.590093",
     "exception": false,
     "start_time": "2020-10-13T03:21:55.559184",
     "status": "completed"
    },
    "tags": []
   },
   "outputs": [
    {
     "data": {
      "text/plain": [
       "['covid', 'normal']"
      ]
     },
     "execution_count": 4,
     "metadata": {},
     "output_type": "execute_result"
    }
   ],
   "source": [
    "os.listdir(data)"
   ]
  },
  {
   "cell_type": "code",
   "execution_count": 5,
   "metadata": {
    "execution": {
     "iopub.execute_input": "2020-10-13T03:21:55.678023Z",
     "iopub.status.busy": "2020-10-13T03:21:55.677247Z",
     "iopub.status.idle": "2020-10-13T03:21:57.082415Z",
     "shell.execute_reply": "2020-10-13T03:21:57.069394Z"
    },
    "papermill": {
     "duration": 1.431043,
     "end_time": "2020-10-13T03:21:57.082569",
     "exception": false,
     "start_time": "2020-10-13T03:21:55.651526",
     "status": "completed"
    },
    "tags": []
   },
   "outputs": [
    {
     "data": {
      "text/plain": [
       "Text(0.5, 0.98, 'Normal Image')"
      ]
     },
     "execution_count": 5,
     "metadata": {},
     "output_type": "execute_result"
    },
    {
     "data": {
      "text/plain": [
       "<Figure size 432x288 with 0 Axes>"
      ]
     },
     "metadata": {},
     "output_type": "display_data"
    }
   ],
   "source": [
    "normal_images = []\n",
    "for img_path in glob.glob(data + '/normal/*'):\n",
    "    normal_images.append(mpimg.imread(img_path))\n",
    "\n",
    "fig = plt.figure()\n",
    "fig.suptitle('Normal Image')\n"
   ]
  },
  {
   "cell_type": "markdown",
   "metadata": {
    "papermill": {
     "duration": 0.031158,
     "end_time": "2020-10-13T03:21:57.148028",
     "exception": false,
     "start_time": "2020-10-13T03:21:57.116870",
     "status": "completed"
    },
    "tags": []
   },
   "source": [
    "## <font color='blue'> Covid Image</font>"
   ]
  },
  {
   "cell_type": "code",
   "execution_count": 6,
   "metadata": {
    "execution": {
     "iopub.execute_input": "2020-10-13T03:21:57.221716Z",
     "iopub.status.busy": "2020-10-13T03:21:57.220889Z",
     "iopub.status.idle": "2020-10-13T03:22:00.003562Z",
     "shell.execute_reply": "2020-10-13T03:22:00.002949Z"
    },
    "papermill": {
     "duration": 2.823706,
     "end_time": "2020-10-13T03:22:00.003675",
     "exception": false,
     "start_time": "2020-10-13T03:21:57.179969",
     "status": "completed"
    },
    "tags": []
   },
   "outputs": [
    {
     "data": {
      "text/plain": [
       "Text(0.5, 0.98, 'covid Image')"
      ]
     },
     "execution_count": 6,
     "metadata": {},
     "output_type": "execute_result"
    },
    {
     "data": {
      "text/plain": [
       "<Figure size 432x288 with 0 Axes>"
      ]
     },
     "metadata": {},
     "output_type": "display_data"
    }
   ],
   "source": [
    "covid_images = []\n",
    "for img_path in glob.glob(data + '/covid/*'):\n",
    "    covid_images.append(mpimg.imread(img_path))\n",
    "\n",
    "fig = plt.figure()\n",
    "fig.suptitle('covid Image')\n"
   ]
  },
  {
   "cell_type": "code",
   "execution_count": 7,
   "metadata": {
    "execution": {
     "iopub.execute_input": "2020-10-13T03:22:00.109640Z",
     "iopub.status.busy": "2020-10-13T03:22:00.108857Z",
     "iopub.status.idle": "2020-10-13T03:22:00.111233Z",
     "shell.execute_reply": "2020-10-13T03:22:00.111665Z"
    },
    "papermill": {
     "duration": 0.032778,
     "end_time": "2020-10-13T03:22:00.111793",
     "exception": false,
     "start_time": "2020-10-13T03:22:00.079015",
     "status": "completed"
    },
    "tags": []
   },
   "outputs": [],
   "source": [
    "Image_Width = 150\n",
    "Image_Height = 150\n",
    "Cannels = 3\n",
    "\n",
    "INPUT_SHAPE = (Image_Width, Image_Height, Cannels)\n",
    "NB_CLASSES = 2\n",
    "EPOCHS = 5\n",
    "BATCH_SIZE = 6"
   ]
  },
  {
   "cell_type": "code",
   "execution_count": 112,
   "metadata": {
    "execution": {
     "iopub.execute_input": "2020-10-13T03:22:00.225187Z",
     "iopub.status.busy": "2020-10-13T03:22:00.224530Z",
     "iopub.status.idle": "2020-10-13T03:22:03.397711Z",
     "shell.execute_reply": "2020-10-13T03:22:03.398631Z"
    },
    "papermill": {
     "duration": 3.211199,
     "end_time": "2020-10-13T03:22:03.398845",
     "exception": false,
     "start_time": "2020-10-13T03:22:00.187646",
     "status": "completed"
    },
    "tags": []
   },
   "outputs": [],
   "source": [
    "\n",
    "from tensorflow.keras.applications import ResNet50\n",
    "\n",
    "mnet = ResNet50(weights=\"imagenet\" , include_top=False , input_shape = INPUT_SHAPE)\n",
    "for layer in mnet.layers[:8]:\n",
    "    layer.trainable = False\n",
    "model = Sequential()\n",
    "model.add(mnet)\n",
    "    \n",
    "model.add(Flatten())\n",
    "model.add(Dropout(0.3))\n",
    "model.add(Dense(32))\n",
    "model.add(Dropout(0.3))\n",
    "model.add(Dense(1))\n",
    "model.add(Activation(\"sigmoid\"))"
   ]
  },
  {
   "cell_type": "code",
   "execution_count": 113,
   "metadata": {
    "execution": {
     "iopub.execute_input": "2020-10-13T03:22:03.569276Z",
     "iopub.status.busy": "2020-10-13T03:22:03.568403Z",
     "iopub.status.idle": "2020-10-13T03:22:03.578908Z",
     "shell.execute_reply": "2020-10-13T03:22:03.579970Z"
    },
    "papermill": {
     "duration": 0.061537,
     "end_time": "2020-10-13T03:22:03.580186",
     "exception": false,
     "start_time": "2020-10-13T03:22:03.518649",
     "status": "completed"
    },
    "tags": []
   },
   "outputs": [],
   "source": [
    "model.compile(loss='binary_crossentropy',optimizer='rmsprop',metrics=['accuracy'])#The optimizer can be changed to adam also based on your preference."
   ]
  },
  {
   "cell_type": "code",
   "execution_count": 114,
   "metadata": {
    "execution": {
     "iopub.execute_input": "2020-10-13T03:22:03.746843Z",
     "iopub.status.busy": "2020-10-13T03:22:03.746009Z",
     "iopub.status.idle": "2020-10-13T03:22:04.361209Z",
     "shell.execute_reply": "2020-10-13T03:22:04.360294Z"
    },
    "papermill": {
     "duration": 0.672201,
     "end_time": "2020-10-13T03:22:04.361320",
     "exception": false,
     "start_time": "2020-10-13T03:22:03.689119",
     "status": "completed"
    },
    "tags": []
   },
   "outputs": [
    {
     "name": "stdout",
     "output_type": "stream",
     "text": [
      "Model: \"sequential_5\"\n",
      "_________________________________________________________________\n",
      "Layer (type)                 Output Shape              Param #   \n",
      "=================================================================\n",
      "conv2d_14 (Conv2D)           (None, 148, 148, 32)      896       \n",
      "_________________________________________________________________\n",
      "activation_15 (Activation)   (None, 148, 148, 32)      0         \n",
      "_________________________________________________________________\n",
      "max_pooling2d_5 (MaxPooling2 (None, 74, 74, 32)        0         \n",
      "_________________________________________________________________\n",
      "conv2d_15 (Conv2D)           (None, 72, 72, 32)        9248      \n",
      "_________________________________________________________________\n",
      "activation_16 (Activation)   (None, 72, 72, 32)        0         \n",
      "_________________________________________________________________\n",
      "max_pooling2d_6 (MaxPooling2 (None, 36, 36, 32)        0         \n",
      "_________________________________________________________________\n",
      "flatten_2 (Flatten)          (None, 41472)             0         \n",
      "_________________________________________________________________\n",
      "dense_4 (Dense)              (None, 32)                1327136   \n",
      "_________________________________________________________________\n",
      "dropout_2 (Dropout)          (None, 32)                0         \n",
      "_________________________________________________________________\n",
      "dense_5 (Dense)              (None, 1)                 33        \n",
      "_________________________________________________________________\n",
      "activation_17 (Activation)   (None, 1)                 0         \n",
      "=================================================================\n",
      "Total params: 1,337,313\n",
      "Trainable params: 1,337,313\n",
      "Non-trainable params: 0\n",
      "_________________________________________________________________\n",
      "('Failed to import pydot. You must `pip install pydot` and install graphviz (https://graphviz.gitlab.io/download/), ', 'for `pydotprint` to work.')\n"
     ]
    }
   ],
   "source": [
    "model.summary()\n",
    "from tensorflow.keras.utils import plot_model\n",
    "plot_model(model, to_file='model1.png')"
   ]
  },
  {
   "cell_type": "code",
   "execution_count": 115,
   "metadata": {
    "execution": {
     "iopub.execute_input": "2020-10-13T03:22:04.481387Z",
     "iopub.status.busy": "2020-10-13T03:22:04.480663Z",
     "iopub.status.idle": "2020-10-13T03:24:43.759109Z",
     "shell.execute_reply": "2020-10-13T03:24:43.758520Z"
    },
    "papermill": {
     "duration": 159.315775,
     "end_time": "2020-10-13T03:24:43.759264",
     "exception": false,
     "start_time": "2020-10-13T03:22:04.443489",
     "status": "completed"
    },
    "tags": []
   },
   "outputs": [
    {
     "name": "stdout",
     "output_type": "stream",
     "text": [
      "Found 74 images belonging to 2 classes.\n",
      "Found 24 images belonging to 2 classes.\n",
      "Epoch 1/45\n",
      "12/12 [==============================] - 6s 492ms/step - batch: 5.5000 - size: 5.6667 - loss: 3.0585 - accuracy: 0.7500 - val_loss: 4.4989 - val_accuracy: 0.7083\n",
      "Epoch 2/45\n",
      "12/12 [==============================] - 7s 552ms/step - batch: 5.5000 - size: 5.6667 - loss: 5.5701 - accuracy: 0.6471 - val_loss: 4.4989 - val_accuracy: 0.7083\n",
      "Epoch 3/45\n",
      "12/12 [==============================] - 6s 523ms/step - batch: 5.5000 - size: 5.6667 - loss: 4.2847 - accuracy: 0.7353 - val_loss: 4.4989 - val_accuracy: 0.7083\n",
      "Epoch 4/45\n",
      "12/12 [==============================] - 6s 478ms/step - batch: 5.5000 - size: 6.0000 - loss: 4.2847 - accuracy: 0.7222 - val_loss: 4.4989 - val_accuracy: 0.7083\n",
      "Epoch 5/45\n",
      "12/12 [==============================] - 5s 456ms/step - batch: 5.5000 - size: 5.6667 - loss: 4.0705 - accuracy: 0.7500 - val_loss: 4.4989 - val_accuracy: 0.7083\n",
      "Epoch 6/45\n",
      "12/12 [==============================] - 5s 424ms/step - batch: 5.5000 - size: 5.3333 - loss: 3.6420 - accuracy: 0.7344 - val_loss: 4.4989 - val_accuracy: 0.7083\n",
      "Epoch 7/45\n",
      "12/12 [==============================] - 5s 412ms/step - batch: 5.5000 - size: 6.0000 - loss: 4.4989 - accuracy: 0.7083 - val_loss: 4.4989 - val_accuracy: 0.7083\n",
      "Epoch 8/45\n",
      "12/12 [==============================] - 5s 409ms/step - batch: 5.5000 - size: 5.6667 - loss: 4.9274 - accuracy: 0.6912 - val_loss: 4.4989 - val_accuracy: 0.7083\n",
      "Epoch 9/45\n",
      "12/12 [==============================] - 5s 410ms/step - batch: 5.5000 - size: 5.6667 - loss: 4.7132 - accuracy: 0.7353 - val_loss: 4.4989 - val_accuracy: 0.7083\n",
      "Epoch 10/45\n",
      "12/12 [==============================] - 5s 414ms/step - batch: 5.5000 - size: 5.6667 - loss: 5.3559 - accuracy: 0.6618 - val_loss: 4.4989 - val_accuracy: 0.7083\n",
      "Epoch 11/45\n",
      "12/12 [==============================] - 5s 380ms/step - batch: 5.5000 - size: 5.3333 - loss: 2.9993 - accuracy: 0.7812 - val_loss: 4.4989 - val_accuracy: 0.7083\n",
      "Epoch 12/45\n",
      "12/12 [==============================] - 5s 419ms/step - batch: 5.5000 - size: 6.0000 - loss: 4.9274 - accuracy: 0.6806 - val_loss: 4.4989 - val_accuracy: 0.7083\n",
      "Epoch 13/45\n",
      "12/12 [==============================] - 5s 403ms/step - batch: 5.5000 - size: 5.6667 - loss: 4.9274 - accuracy: 0.7206 - val_loss: 4.4989 - val_accuracy: 0.7083\n",
      "Epoch 14/45\n",
      "12/12 [==============================] - 5s 395ms/step - batch: 5.5000 - size: 5.6667 - loss: 4.2847 - accuracy: 0.7059 - val_loss: 4.4989 - val_accuracy: 0.7083\n",
      "Epoch 15/45\n",
      "12/12 [==============================] - 6s 485ms/step - batch: 5.5000 - size: 5.6667 - loss: 3.6420 - accuracy: 0.7500 - val_loss: 4.4989 - val_accuracy: 0.7083\n",
      "Epoch 16/45\n",
      "12/12 [==============================] - 6s 479ms/step - batch: 5.5000 - size: 5.6667 - loss: 4.1986 - accuracy: 0.6765 - val_loss: 4.4989 - val_accuracy: 0.7083\n",
      "Epoch 17/45\n",
      "12/12 [==============================] - 6s 486ms/step - batch: 5.5000 - size: 5.6667 - loss: 5.5701 - accuracy: 0.6471 - val_loss: 4.4989 - val_accuracy: 0.7083\n",
      "Epoch 18/45\n",
      "12/12 [==============================] - 7s 590ms/step - batch: 5.5000 - size: 6.0000 - loss: 4.2847 - accuracy: 0.7222 - val_loss: 4.4989 - val_accuracy: 0.7083\n",
      "Epoch 19/45\n",
      "12/12 [==============================] - 9s 766ms/step - batch: 5.5000 - size: 5.6667 - loss: 3.8562 - accuracy: 0.7353 - val_loss: 4.4989 - val_accuracy: 0.7083\n",
      "Epoch 20/45\n",
      "12/12 [==============================] - 8s 663ms/step - batch: 5.5000 - size: 5.6667 - loss: 4.2847 - accuracy: 0.7059 - val_loss: 4.4989 - val_accuracy: 0.7083\n",
      "Epoch 21/45\n",
      "12/12 [==============================] - 8s 637ms/step - batch: 5.5000 - size: 5.6667 - loss: 3.4278 - accuracy: 0.7647 - val_loss: 4.4989 - val_accuracy: 0.7083\n",
      "Epoch 22/45\n",
      "12/12 [==============================] - 6s 539ms/step - batch: 5.5000 - size: 5.6667 - loss: 4.2847 - accuracy: 0.7059 - val_loss: 4.4989 - val_accuracy: 0.7083\n",
      "Epoch 23/45\n",
      "12/12 [==============================] - 7s 611ms/step - batch: 5.5000 - size: 5.6667 - loss: 4.2847 - accuracy: 0.7059 - val_loss: 4.4989 - val_accuracy: 0.7083\n",
      "Epoch 24/45\n",
      "12/12 [==============================] - 5s 428ms/step - batch: 5.5000 - size: 5.6667 - loss: 4.4989 - accuracy: 0.6912 - val_loss: 4.4989 - val_accuracy: 0.7083\n",
      "Epoch 25/45\n",
      "12/12 [==============================] - 5s 433ms/step - batch: 5.5000 - size: 5.6667 - loss: 3.8562 - accuracy: 0.7353 - val_loss: 4.4989 - val_accuracy: 0.7083\n",
      "Epoch 26/45\n",
      "12/12 [==============================] - 5s 427ms/step - batch: 5.5000 - size: 5.6667 - loss: 4.0705 - accuracy: 0.7206 - val_loss: 4.4989 - val_accuracy: 0.7083\n",
      "Epoch 27/45\n",
      "12/12 [==============================] - 5s 409ms/step - batch: 5.5000 - size: 5.6667 - loss: 4.4989 - accuracy: 0.6912 - val_loss: 4.4989 - val_accuracy: 0.7083\n",
      "Epoch 28/45\n",
      "12/12 [==============================] - 7s 549ms/step - batch: 5.5000 - size: 6.0000 - loss: 4.4989 - accuracy: 0.7083 - val_loss: 4.4989 - val_accuracy: 0.7083\n",
      "Epoch 29/45\n",
      "12/12 [==============================] - 6s 515ms/step - batch: 5.5000 - size: 5.3333 - loss: 3.6420 - accuracy: 0.7656 - val_loss: 4.4989 - val_accuracy: 0.7083\n",
      "Epoch 30/45\n",
      "12/12 [==============================] - 6s 474ms/step - batch: 5.5000 - size: 5.6667 - loss: 4.2847 - accuracy: 0.7353 - val_loss: 4.4989 - val_accuracy: 0.7083\n",
      "Epoch 31/45\n",
      "12/12 [==============================] - 6s 475ms/step - batch: 5.5000 - size: 5.6667 - loss: 5.5701 - accuracy: 0.6765 - val_loss: 4.4989 - val_accuracy: 0.7083\n",
      "Epoch 32/45\n",
      "12/12 [==============================] - 5s 430ms/step - batch: 5.5000 - size: 5.6667 - loss: 4.7132 - accuracy: 0.7059 - val_loss: 4.4989 - val_accuracy: 0.7083\n",
      "Epoch 33/45\n",
      "12/12 [==============================] - 6s 464ms/step - batch: 5.5000 - size: 6.0000 - loss: 4.2847 - accuracy: 0.7222 - val_loss: 4.4989 - val_accuracy: 0.7083\n",
      "Epoch 34/45\n",
      "12/12 [==============================] - 5s 405ms/step - batch: 5.5000 - size: 5.3333 - loss: 3.8562 - accuracy: 0.7188 - val_loss: 4.4989 - val_accuracy: 0.7083\n",
      "Epoch 35/45\n",
      "12/12 [==============================] - 5s 432ms/step - batch: 5.5000 - size: 5.6667 - loss: 4.7132 - accuracy: 0.7353 - val_loss: 4.4989 - val_accuracy: 0.7083\n",
      "Epoch 36/45\n",
      "12/12 [==============================] - 5s 456ms/step - batch: 5.5000 - size: 6.0000 - loss: 4.0705 - accuracy: 0.7361 - val_loss: 4.4989 - val_accuracy: 0.7083\n",
      "Epoch 37/45\n",
      "12/12 [==============================] - 5s 382ms/step - batch: 5.5000 - size: 5.6667 - loss: 4.7132 - accuracy: 0.7059 - val_loss: 4.4989 - val_accuracy: 0.7083\n",
      "Epoch 38/45\n",
      "12/12 [==============================] - 6s 468ms/step - batch: 5.5000 - size: 5.6667 - loss: 5.1416 - accuracy: 0.6765 - val_loss: 4.4989 - val_accuracy: 0.7083\n",
      "Epoch 39/45\n",
      "12/12 [==============================] - 5s 423ms/step - batch: 5.5000 - size: 5.6667 - loss: 3.8562 - accuracy: 0.7353 - val_loss: 4.4989 - val_accuracy: 0.7083\n",
      "Epoch 40/45\n",
      "12/12 [==============================] - 5s 403ms/step - batch: 5.5000 - size: 5.6667 - loss: 4.4989 - accuracy: 0.6912 - val_loss: 4.4989 - val_accuracy: 0.7083\n",
      "Epoch 41/45\n",
      "12/12 [==============================] - 6s 522ms/step - batch: 5.5000 - size: 5.6667 - loss: 3.2135 - accuracy: 0.7794 - val_loss: 4.4989 - val_accuracy: 0.7083\n",
      "Epoch 42/45\n",
      "12/12 [==============================] - 6s 503ms/step - batch: 5.5000 - size: 6.0000 - loss: 5.1416 - accuracy: 0.6667 - val_loss: 4.4989 - val_accuracy: 0.7083\n",
      "Epoch 43/45\n",
      "12/12 [==============================] - 6s 488ms/step - batch: 5.5000 - size: 5.3333 - loss: 3.6420 - accuracy: 0.7656 - val_loss: 4.4989 - val_accuracy: 0.7083\n",
      "Epoch 44/45\n",
      "12/12 [==============================] - 7s 551ms/step - batch: 5.5000 - size: 6.0000 - loss: 5.3559 - accuracy: 0.6528 - val_loss: 4.4989 - val_accuracy: 0.7083\n",
      "Epoch 45/45\n",
      "12/12 [==============================] - 5s 456ms/step - batch: 5.5000 - size: 5.6667 - loss: 3.8562 - accuracy: 0.7647 - val_loss: 4.4989 - val_accuracy: 0.7083\n"
     ]
    }
   ],
   "source": [
    "train_datagen = ImageDataGenerator(rescale=1./255,\n",
    "    shear_range=0.2,\n",
    "    zoom_range=0.2,\n",
    "    horizontal_flip=True,\n",
    "    validation_split=0.25)\n",
    "\n",
    "train_generator = train_datagen.flow_from_directory(\n",
    "    data,\n",
    "    target_size=(Image_Height, Image_Width),\n",
    "    batch_size=BATCH_SIZE,\n",
    "    class_mode='binary',\n",
    "    subset='training')\n",
    "\n",
    "validation_generator = train_datagen.flow_from_directory(\n",
    "    data, \n",
    "    target_size=(Image_Height, Image_Width),\n",
    "    batch_size=BATCH_SIZE,\n",
    "    class_mode='binary',\n",
    "    shuffle= False,\n",
    "    subset='validation')\n",
    "\n",
    "history = model.fit_generator(\n",
    "    train_generator,\n",
    "    steps_per_epoch = train_generator.samples // BATCH_SIZE,\n",
    "    validation_data = validation_generator, \n",
    "    validation_steps = validation_generator.samples // BATCH_SIZE,\n",
    "    epochs = EPOCHS)"
   ]
  },
  {
   "cell_type": "code",
   "execution_count": 116,
   "metadata": {},
   "outputs": [],
   "source": [
    "model.save_weights('saved_model/')"
   ]
  },
  {
   "cell_type": "code",
   "execution_count": 117,
   "metadata": {},
   "outputs": [
    {
     "data": {
      "text/plain": [
       "<tensorflow.python.training.tracking.util.CheckpointLoadStatus at 0x1db85089f70>"
      ]
     },
     "execution_count": 117,
     "metadata": {},
     "output_type": "execute_result"
    }
   ],
   "source": [
    "model.load_weights(\"saved_model/\")"
   ]
  },
  {
   "cell_type": "code",
   "execution_count": 118,
   "metadata": {},
   "outputs": [
    {
     "name": "stdout",
     "output_type": "stream",
     "text": [
      "{'covid': 0, 'normal': 1}\n"
     ]
    }
   ],
   "source": [
    "classes = train_generator.class_indices \n",
    "print(classes)"
   ]
  },
  {
   "cell_type": "code",
   "execution_count": 119,
   "metadata": {},
   "outputs": [
    {
     "name": "stdout",
     "output_type": "stream",
     "text": [
      "0\n"
     ]
    }
   ],
   "source": [
    "from keras.preprocessing import image\n",
    "import numpy as np\n",
    "img = image.load_img('./temp/nrml1.jpeg', target_size=(Image_Width, Image_Height))\n",
    "x = image.img_to_array(img)\n",
    "x = np.expand_dims(x, axis=0)\n",
    "\n",
    "images = np.vstack([x])\n",
    "classes = model.predict_classes(images, batch_size=10)\n",
    "print(classes[0][0])"
   ]
  },
  {
   "cell_type": "markdown",
   "metadata": {
    "papermill": {
     "duration": 0.226867,
     "end_time": "2020-10-13T03:24:44.215031",
     "exception": false,
     "start_time": "2020-10-13T03:24:43.988164",
     "status": "completed"
    },
    "tags": []
   },
   "source": [
    "## <font color='blue'>Accuracy and Loss Graphs</font>"
   ]
  },
  {
   "cell_type": "code",
   "execution_count": 11,
   "metadata": {
    "execution": {
     "iopub.execute_input": "2020-10-13T03:24:44.695732Z",
     "iopub.status.busy": "2020-10-13T03:24:44.694680Z",
     "iopub.status.idle": "2020-10-13T03:24:44.991463Z",
     "shell.execute_reply": "2020-10-13T03:24:44.991948Z"
    },
    "papermill": {
     "duration": 0.550188,
     "end_time": "2020-10-13T03:24:44.992096",
     "exception": false,
     "start_time": "2020-10-13T03:24:44.441908",
     "status": "completed"
    },
    "tags": []
   },
   "outputs": [
    {
     "data": {
      "image/png": "[encoded data removed]",
      "text/plain": [
       "<Figure size 1008x360 with 2 Axes>"
      ]
     },
     "metadata": {
      "needs_background": "light"
     },
     "output_type": "display_data"
    }
   ],
   "source": [
    "fig , ax = plt.subplots(1,2, figsize=(14,5))\n",
    "ax[0].plot(history.history['accuracy'])\n",
    "ax[0].plot(history.history['val_accuracy'])\n",
    "ax[0].set_title('model accuracy')\n",
    "ax[0].set_ylabel('accuracy')\n",
    "ax[0].set_xlabel('epoch')\n",
    "ax[0].legend(['train', 'test'], loc='upper left')\n",
    "\n",
    "ax[1].plot(history.history['loss'])\n",
    "ax[1].plot(history.history['val_loss'])\n",
    "ax[1].set_title('model loss')\n",
    "ax[1].set_ylabel('loss')\n",
    "ax[1].set_xlabel('epoch')\n",
    "ax[1].legend(['train', 'test'], loc='upper left')\n",
    "plt.show()"
   ]
  },
  {
   "cell_type": "markdown",
   "metadata": {
    "papermill": {
     "duration": 0.230284,
     "end_time": "2020-10-13T03:24:45.453501",
     "exception": false,
     "start_time": "2020-10-13T03:24:45.223217",
     "status": "completed"
    },
    "tags": []
   },
   "source": [
    "## <font color='blue'> Model Accuracy data </font>"
   ]
  },
  {
   "cell_type": "code",
   "execution_count": 12,
   "metadata": {
    "execution": {
     "iopub.execute_input": "2020-10-13T03:24:45.952821Z",
     "iopub.status.busy": "2020-10-13T03:24:45.952103Z",
     "iopub.status.idle": "2020-10-13T03:24:45.958134Z",
     "shell.execute_reply": "2020-10-13T03:24:45.958771Z"
    },
    "papermill": {
     "duration": 0.251306,
     "end_time": "2020-10-13T03:24:45.958946",
     "exception": false,
     "start_time": "2020-10-13T03:24:45.707640",
     "status": "completed"
    },
    "tags": []
   },
   "outputs": [
    {
     "name": "stdout",
     "output_type": "stream",
     "text": [
      "training_accuracy 0.9558823704719543\n",
      "validation_accuracy 1.0\n"
     ]
    }
   ],
   "source": [
    "print(\"training_accuracy\", history.history['accuracy'][-1])\n",
    "print(\"validation_accuracy\", history.history['val_accuracy'][-1])"
   ]
  },
  {
   "cell_type": "code",
   "execution_count": 120,
   "metadata": {
    "execution": {
     "iopub.execute_input": "2020-10-13T03:24:46.905533Z",
     "iopub.status.busy": "2020-10-13T03:24:46.904718Z",
     "iopub.status.idle": "2020-10-13T03:24:48.393205Z",
     "shell.execute_reply": "2020-10-13T03:24:48.393983Z"
    },
    "papermill": {
     "duration": 1.729035,
     "end_time": "2020-10-13T03:24:48.394224",
     "exception": false,
     "start_time": "2020-10-13T03:24:46.665189",
     "status": "completed"
    },
    "tags": []
   },
   "outputs": [
    {
     "name": "stdout",
     "output_type": "stream",
     "text": [
      "[0 0 0 0 0 0 0 0 0 0 0 0 0 0 0 0 0 0 0 0 0 0 0 0]\n",
      "{'covid': 0, 'normal': 1}\n",
      "['covid', 'covid', 'covid', 'covid', 'covid', 'covid', 'covid', 'covid', 'covid', 'covid', 'covid', 'covid', 'covid', 'covid', 'covid', 'covid', 'covid', 'covid', 'covid', 'covid', 'covid', 'covid', 'covid', 'covid']\n"
     ]
    }
   ],
   "source": [
    "label = validation_generator.classes\n",
    "pred= model.predict(validation_generator)\n",
    "predicted_class_indices=np.argmax(pred,axis=1)\n",
    "labels = (validation_generator.class_indices)\n",
    "labels2 = dict((v,k) for k,v in labels.items())\n",
    "predictions = [labels2[k] for k in predicted_class_indices]\n",
    "print(predicted_class_indices)\n",
    "print (labels)\n",
    "print (predictions)"
   ]
  },
  {
   "cell_type": "markdown",
   "metadata": {
    "papermill": {
     "duration": 0.334393,
     "end_time": "2020-10-13T03:24:49.059823",
     "exception": false,
     "start_time": "2020-10-13T03:24:48.725430",
     "status": "completed"
    },
    "tags": []
   },
   "source": [
    "## <font color='blue'>Confusion Matrix </font>"
   ]
  },
  {
   "cell_type": "code",
   "execution_count": 121,
   "metadata": {
    "execution": {
     "iopub.execute_input": "2020-10-13T03:24:49.557469Z",
     "iopub.status.busy": "2020-10-13T03:24:49.556676Z",
     "iopub.status.idle": "2020-10-13T03:24:49.849257Z",
     "shell.execute_reply": "2020-10-13T03:24:49.849762Z"
    },
    "papermill": {
     "duration": 0.526029,
     "end_time": "2020-10-13T03:24:49.849929",
     "exception": false,
     "start_time": "2020-10-13T03:24:49.323900",
     "status": "completed"
    },
    "tags": []
   },
   "outputs": [
    {
     "data": {
      "text/plain": [
       "<AxesSubplot:>"
      ]
     },
     "execution_count": 121,
     "metadata": {},
     "output_type": "execute_result"
    },
    {
     "data": {
      "image/png": "[encoded data removed]",
      "image/svg+xml": [
       "<?xml version=\"1.0\" encoding=\"utf-8\" standalone=\"no\"?>\r\n",
       "<!DOCTYPE svg PUBLIC \"-//W3C//DTD SVG 1.1//EN\"\r\n",
       "  \"http://www.w3.org/Graphics/SVG/1.1/DTD/svg11.dtd\">\r\n",
       "<!-- Created with matplotlib (https://matplotlib.org/) -->\r\n",
       "<svg height=\"357.238125pt\" version=\"1.1\" viewBox=\"0 0 351.691125 357.238125\" width=\"351.691125pt\" xmlns=\"http://www.w3.org/2000/svg\" xmlns:xlink=\"http://www.w3.org/1999/xlink\">\r\n",
       " <metadata>\r\n",
       "  <rdf:RDF xmlns:cc=\"http://creativecommons.org/ns#\" xmlns:dc=\"http://purl.org/dc/elements/1.1/\" xmlns:rdf=\"http://www.w3.org/1999/02/22-rdf-syntax-ns#\">\r\n",
       "   <cc:Work>\r\n",
       "    <dc:type rdf:resource=\"http://purl.org/dc/dcmitype/StillImage\"/>\r\n",
       "    <dc:date>2021-02-05T22:15:41.734651</dc:date>\r\n",
       "    <dc:format>image/svg+xml</dc:format>\r\n",
       "    <dc:creator>\r\n",
       "     <cc:Agent>\r\n",
       "      <dc:title>Matplotlib v3.3.2, https://matplotlib.org/</dc:title>\r\n",
       "     </cc:Agent>\r\n",
       "    </dc:creator>\r\n",
       "   </cc:Work>\r\n",
       "  </rdf:RDF>\r\n",
       " </metadata>\r\n",
       " <defs>\r\n",
       "  <style type=\"text/css\">*{stroke-linecap:butt;stroke-linejoin:round;}</style>\r\n",
       " </defs>\r\n",
       " <g id=\"figure_1\">\r\n",
       "  <g id=\"patch_1\">\r\n",
       "   <path d=\"M -0 357.238125 \r\n",
       "L 351.691125 357.238125 \r\n",
       "L 351.691125 0 \r\n",
       "L -0 0 \r\n",
       "z\r\n",
       "\" style=\"fill:none;\"/>\r\n",
       "  </g>\r\n",
       "  <g id=\"axes_1\">\r\n",
       "   <g id=\"patch_2\">\r\n",
       "    <path d=\"M 23.878125 333.36 \r\n",
       "L 291.718125 333.36 \r\n",
       "L 291.718125 7.2 \r\n",
       "L 23.878125 7.2 \r\n",
       "z\r\n",
       "\" style=\"fill:#ffffff;\"/>\r\n",
       "   </g>\r\n",
       "   <g id=\"QuadMesh_1\">\r\n",
       "    <path clip-path=\"url(#pb92eec8e26)\" d=\"M 23.878125 7.2 \r\n",
       "L 157.798125 7.2 \r\n",
       "L 157.798125 170.28 \r\n",
       "L 23.878125 170.28 \r\n",
       "L 23.878125 7.2 \r\n",
       "\" style=\"fill:#08306b;\"/>\r\n",
       "    <path clip-path=\"url(#pb92eec8e26)\" d=\"M 157.798125 7.2 \r\n",
       "L 291.718125 7.2 \r\n",
       "L 291.718125 170.28 \r\n",
       "L 157.798125 170.28 \r\n",
       "L 157.798125 7.2 \r\n",
       "\" style=\"fill:#8fc2de;\"/>\r\n",
       "    <path clip-path=\"url(#pb92eec8e26)\" d=\"M 23.878125 170.28 \r\n",
       "L 157.798125 170.28 \r\n",
       "L 157.798125 333.36 \r\n",
       "L 23.878125 333.36 \r\n",
       "L 23.878125 170.28 \r\n",
       "\" style=\"fill:#f7fbff;\"/>\r\n",
       "    <path clip-path=\"url(#pb92eec8e26)\" d=\"M 157.798125 170.28 \r\n",
       "L 291.718125 170.28 \r\n",
       "L 291.718125 333.36 \r\n",
       "L 157.798125 333.36 \r\n",
       "L 157.798125 170.28 \r\n",
       "\" style=\"fill:#f7fbff;\"/>\r\n",
       "   </g>\r\n",
       "   <g id=\"matplotlib.axis_1\">\r\n",
       "    <g id=\"xtick_1\">\r\n",
       "     <g id=\"line2d_1\">\r\n",
       "      <defs>\r\n",
       "       <path d=\"M 0 0 \r\n",
       "L 0 3.5 \r\n",
       "\" id=\"m31e6b3d9d6\" style=\"stroke:#000000;stroke-width:0.8;\"/>\r\n",
       "      </defs>\r\n",
       "      <g>\r\n",
       "       <use style=\"stroke:#000000;stroke-width:0.8;\" x=\"90.838125\" xlink:href=\"#m31e6b3d9d6\" y=\"333.36\"/>\r\n",
       "      </g>\r\n",
       "     </g>\r\n",
       "     <g id=\"text_1\">\r\n",
       "      <!-- 0 -->\r\n",
       "      <g transform=\"translate(87.656875 347.958438)scale(0.1 -0.1)\">\r\n",
       "       <defs>\r\n",
       "        <path d=\"M 31.78125 66.40625 \r\n",
       "Q 24.171875 66.40625 20.328125 58.90625 \r\n",
       "Q 16.5 51.421875 16.5 36.375 \r\n",
       "Q 16.5 21.390625 20.328125 13.890625 \r\n",
       "Q 24.171875 6.390625 31.78125 6.390625 \r\n",
       "Q 39.453125 6.390625 43.28125 13.890625 \r\n",
       "Q 47.125 21.390625 47.125 36.375 \r\n",
       "Q 47.125 51.421875 43.28125 58.90625 \r\n",
       "Q 39.453125 66.40625 31.78125 66.40625 \r\n",
       "z\r\n",
       "M 31.78125 74.21875 \r\n",
       "Q 44.046875 74.21875 50.515625 64.515625 \r\n",
       "Q 56.984375 54.828125 56.984375 36.375 \r\n",
       "Q 56.984375 17.96875 50.515625 8.265625 \r\n",
       "Q 44.046875 -1.421875 31.78125 -1.421875 \r\n",
       "Q 19.53125 -1.421875 13.0625 8.265625 \r\n",
       "Q 6.59375 17.96875 6.59375 36.375 \r\n",
       "Q 6.59375 54.828125 13.0625 64.515625 \r\n",
       "Q 19.53125 74.21875 31.78125 74.21875 \r\n",
       "z\r\n",
       "\" id=\"DejaVuSans-48\"/>\r\n",
       "       </defs>\r\n",
       "       <use xlink:href=\"#DejaVuSans-48\"/>\r\n",
       "      </g>\r\n",
       "     </g>\r\n",
       "    </g>\r\n",
       "    <g id=\"xtick_2\">\r\n",
       "     <g id=\"line2d_2\">\r\n",
       "      <g>\r\n",
       "       <use style=\"stroke:#000000;stroke-width:0.8;\" x=\"224.758125\" xlink:href=\"#m31e6b3d9d6\" y=\"333.36\"/>\r\n",
       "      </g>\r\n",
       "     </g>\r\n",
       "     <g id=\"text_2\">\r\n",
       "      <!-- 1 -->\r\n",
       "      <g transform=\"translate(221.576875 347.958438)scale(0.1 -0.1)\">\r\n",
       "       <defs>\r\n",
       "        <path d=\"M 12.40625 8.296875 \r\n",
       "L 28.515625 8.296875 \r\n",
       "L 28.515625 63.921875 \r\n",
       "L 10.984375 60.40625 \r\n",
       "L 10.984375 69.390625 \r\n",
       "L 28.421875 72.90625 \r\n",
       "L 38.28125 72.90625 \r\n",
       "L 38.28125 8.296875 \r\n",
       "L 54.390625 8.296875 \r\n",
       "L 54.390625 0 \r\n",
       "L 12.40625 0 \r\n",
       "z\r\n",
       "\" id=\"DejaVuSans-49\"/>\r\n",
       "       </defs>\r\n",
       "       <use xlink:href=\"#DejaVuSans-49\"/>\r\n",
       "      </g>\r\n",
       "     </g>\r\n",
       "    </g>\r\n",
       "   </g>\r\n",
       "   <g id=\"matplotlib.axis_2\">\r\n",
       "    <g id=\"ytick_1\">\r\n",
       "     <g id=\"line2d_3\">\r\n",
       "      <defs>\r\n",
       "       <path d=\"M 0 0 \r\n",
       "L -3.5 0 \r\n",
       "\" id=\"m831ae6c3b4\" style=\"stroke:#000000;stroke-width:0.8;\"/>\r\n",
       "      </defs>\r\n",
       "      <g>\r\n",
       "       <use style=\"stroke:#000000;stroke-width:0.8;\" x=\"23.878125\" xlink:href=\"#m831ae6c3b4\" y=\"88.74\"/>\r\n",
       "      </g>\r\n",
       "     </g>\r\n",
       "     <g id=\"text_3\">\r\n",
       "      <!-- 0 -->\r\n",
       "      <g transform=\"translate(14.798438 91.303281)rotate(-90)scale(0.1 -0.1)\">\r\n",
       "       <use xlink:href=\"#DejaVuSans-48\"/>\r\n",
       "      </g>\r\n",
       "     </g>\r\n",
       "    </g>\r\n",
       "    <g id=\"ytick_2\">\r\n",
       "     <g id=\"line2d_4\">\r\n",
       "      <g>\r\n",
       "       <use style=\"stroke:#000000;stroke-width:0.8;\" x=\"23.878125\" xlink:href=\"#m831ae6c3b4\" y=\"251.82\"/>\r\n",
       "      </g>\r\n",
       "     </g>\r\n",
       "     <g id=\"text_4\">\r\n",
       "      <!-- 1 -->\r\n",
       "      <g transform=\"translate(14.798438 254.383281)rotate(-90)scale(0.1 -0.1)\">\r\n",
       "       <use xlink:href=\"#DejaVuSans-49\"/>\r\n",
       "      </g>\r\n",
       "     </g>\r\n",
       "    </g>\r\n",
       "   </g>\r\n",
       "   <g id=\"text_5\">\r\n",
       "    <!-- 17 -->\r\n",
       "    <g style=\"fill:#ffffff;\" transform=\"translate(84.475625 91.499375)scale(0.1 -0.1)\">\r\n",
       "     <defs>\r\n",
       "      <path d=\"M 8.203125 72.90625 \r\n",
       "L 55.078125 72.90625 \r\n",
       "L 55.078125 68.703125 \r\n",
       "L 28.609375 0 \r\n",
       "L 18.3125 0 \r\n",
       "L 43.21875 64.59375 \r\n",
       "L 8.203125 64.59375 \r\n",
       "z\r\n",
       "\" id=\"DejaVuSans-55\"/>\r\n",
       "     </defs>\r\n",
       "     <use xlink:href=\"#DejaVuSans-49\"/>\r\n",
       "     <use x=\"63.623047\" xlink:href=\"#DejaVuSans-55\"/>\r\n",
       "    </g>\r\n",
       "   </g>\r\n",
       "   <g id=\"text_6\">\r\n",
       "    <!-- 7 -->\r\n",
       "    <g style=\"fill:#262626;\" transform=\"translate(221.576875 91.499375)scale(0.1 -0.1)\">\r\n",
       "     <use xlink:href=\"#DejaVuSans-55\"/>\r\n",
       "    </g>\r\n",
       "   </g>\r\n",
       "   <g id=\"text_7\">\r\n",
       "    <!-- 0 -->\r\n",
       "    <g style=\"fill:#262626;\" transform=\"translate(87.656875 254.579375)scale(0.1 -0.1)\">\r\n",
       "     <use xlink:href=\"#DejaVuSans-48\"/>\r\n",
       "    </g>\r\n",
       "   </g>\r\n",
       "   <g id=\"text_8\">\r\n",
       "    <!-- 0 -->\r\n",
       "    <g style=\"fill:#262626;\" transform=\"translate(221.576875 254.579375)scale(0.1 -0.1)\">\r\n",
       "     <use xlink:href=\"#DejaVuSans-48\"/>\r\n",
       "    </g>\r\n",
       "   </g>\r\n",
       "  </g>\r\n",
       "  <g id=\"axes_2\">\r\n",
       "   <g id=\"patch_3\">\r\n",
       "    <path clip-path=\"url(#pdb06dc4edc)\" d=\"M 308.458125 333.36 \r\n",
       "L 308.458125 332.085937 \r\n",
       "L 308.458125 8.474063 \r\n",
       "L 308.458125 7.2 \r\n",
       "L 324.766125 7.2 \r\n",
       "L 324.766125 8.474063 \r\n",
       "L 324.766125 332.085937 \r\n",
       "L 324.766125 333.36 \r\n",
       "z\r\n",
       "\" style=\"fill:#ffffff;stroke:#ffffff;stroke-linejoin:miter;stroke-width:0.01;\"/>\r\n",
       "   </g>\r\n",
       "   <image height=\"326\" id=\"image03d26852e4\" transform=\"scale(1 -1)translate(0 -326)\" width=\"17\" x=\"308\" xlink:href=\"data:image/png;base64,\r\n",
       "iVBORw0KGgoAAAANSUhEUgAAABEAAAFGCAYAAACMkXQBAAABmklEQVR4nO2aMQoDMQwEneD/fzdFwJc+cucxDGL1gEU3Wsmyudfn+zzjMOa5xBjzGecqE9AYE9AYb0CjG1iICSKiAUtkgoDt5lgNWMax0GQ7V1H5BBAJ2I3IuYapAYdlnnQDq1ktAnYjogGrmmwB+xcBWyNga4iW4YAtEbA1ArYGtFFbBnXAbkQQsAsgm7N4I7JEk81zLw7YIoKAJUSWZjx6zOZ5KyCqo3rdsphtESLE5wTsRoQBq+niXjtbP7MBIkR1RMcoYjZiZxN1secsRsC2cyySiYUJVGJApNv1zdI77cajZWdDtoJ2TDIe74ggVxWPYzU3r277ScCW8NxGPaOgm2NNi5/l/USzFZjAWiZbN7CaO2Am26VMRGDTgDuRTpmowEqYdOtiDViV2TplErCXMlGBDZMqAmSygM0vYM2ZqMACIqL/7TVMNCKmf8stTAL2kki3LtZUJ2AvZdINrIeJpsQeEZHZelWHciwC9vxvCyQTionkc6hMzkVithox26VMAnYnAjyRqcBKqqNiojFbwHozCdgaCJMf4ZsbSLGpkj0AAAAASUVORK5CYII=\" y=\"-7\"/>\r\n",
       "   <g id=\"matplotlib.axis_3\"/>\r\n",
       "   <g id=\"matplotlib.axis_4\">\r\n",
       "    <g id=\"ytick_3\">\r\n",
       "     <g id=\"line2d_5\">\r\n",
       "      <defs>\r\n",
       "       <path d=\"M 0 0 \r\n",
       "L 3.5 0 \r\n",
       "\" id=\"md9ffe37117\" style=\"stroke:#000000;stroke-width:0.8;\"/>\r\n",
       "      </defs>\r\n",
       "      <g>\r\n",
       "       <use style=\"stroke:#000000;stroke-width:0.8;\" x=\"324.766125\" xlink:href=\"#md9ffe37117\" y=\"333.36\"/>\r\n",
       "      </g>\r\n",
       "     </g>\r\n",
       "     <g id=\"text_9\">\r\n",
       "      <!-- 0 -->\r\n",
       "      <g transform=\"translate(331.766125 337.159219)scale(0.1 -0.1)\">\r\n",
       "       <use xlink:href=\"#DejaVuSans-48\"/>\r\n",
       "      </g>\r\n",
       "     </g>\r\n",
       "    </g>\r\n",
       "    <g id=\"ytick_4\">\r\n",
       "     <g id=\"line2d_6\">\r\n",
       "      <g>\r\n",
       "       <use style=\"stroke:#000000;stroke-width:0.8;\" x=\"324.766125\" xlink:href=\"#md9ffe37117\" y=\"294.988235\"/>\r\n",
       "      </g>\r\n",
       "     </g>\r\n",
       "     <g id=\"text_10\">\r\n",
       "      <!-- 2 -->\r\n",
       "      <g transform=\"translate(331.766125 298.787454)scale(0.1 -0.1)\">\r\n",
       "       <defs>\r\n",
       "        <path d=\"M 19.1875 8.296875 \r\n",
       "L 53.609375 8.296875 \r\n",
       "L 53.609375 0 \r\n",
       "L 7.328125 0 \r\n",
       "L 7.328125 8.296875 \r\n",
       "Q 12.9375 14.109375 22.625 23.890625 \r\n",
       "Q 32.328125 33.6875 34.8125 36.53125 \r\n",
       "Q 39.546875 41.84375 41.421875 45.53125 \r\n",
       "Q 43.3125 49.21875 43.3125 52.78125 \r\n",
       "Q 43.3125 58.59375 39.234375 62.25 \r\n",
       "Q 35.15625 65.921875 28.609375 65.921875 \r\n",
       "Q 23.96875 65.921875 18.8125 64.3125 \r\n",
       "Q 13.671875 62.703125 7.8125 59.421875 \r\n",
       "L 7.8125 69.390625 \r\n",
       "Q 13.765625 71.78125 18.9375 73 \r\n",
       "Q 24.125 74.21875 28.421875 74.21875 \r\n",
       "Q 39.75 74.21875 46.484375 68.546875 \r\n",
       "Q 53.21875 62.890625 53.21875 53.421875 \r\n",
       "Q 53.21875 48.921875 51.53125 44.890625 \r\n",
       "Q 49.859375 40.875 45.40625 35.40625 \r\n",
       "Q 44.1875 33.984375 37.640625 27.21875 \r\n",
       "Q 31.109375 20.453125 19.1875 8.296875 \r\n",
       "z\r\n",
       "\" id=\"DejaVuSans-50\"/>\r\n",
       "       </defs>\r\n",
       "       <use xlink:href=\"#DejaVuSans-50\"/>\r\n",
       "      </g>\r\n",
       "     </g>\r\n",
       "    </g>\r\n",
       "    <g id=\"ytick_5\">\r\n",
       "     <g id=\"line2d_7\">\r\n",
       "      <g>\r\n",
       "       <use style=\"stroke:#000000;stroke-width:0.8;\" x=\"324.766125\" xlink:href=\"#md9ffe37117\" y=\"256.616471\"/>\r\n",
       "      </g>\r\n",
       "     </g>\r\n",
       "     <g id=\"text_11\">\r\n",
       "      <!-- 4 -->\r\n",
       "      <g transform=\"translate(331.766125 260.415689)scale(0.1 -0.1)\">\r\n",
       "       <defs>\r\n",
       "        <path d=\"M 37.796875 64.3125 \r\n",
       "L 12.890625 25.390625 \r\n",
       "L 37.796875 25.390625 \r\n",
       "z\r\n",
       "M 35.203125 72.90625 \r\n",
       "L 47.609375 72.90625 \r\n",
       "L 47.609375 25.390625 \r\n",
       "L 58.015625 25.390625 \r\n",
       "L 58.015625 17.1875 \r\n",
       "L 47.609375 17.1875 \r\n",
       "L 47.609375 0 \r\n",
       "L 37.796875 0 \r\n",
       "L 37.796875 17.1875 \r\n",
       "L 4.890625 17.1875 \r\n",
       "L 4.890625 26.703125 \r\n",
       "z\r\n",
       "\" id=\"DejaVuSans-52\"/>\r\n",
       "       </defs>\r\n",
       "       <use xlink:href=\"#DejaVuSans-52\"/>\r\n",
       "      </g>\r\n",
       "     </g>\r\n",
       "    </g>\r\n",
       "    <g id=\"ytick_6\">\r\n",
       "     <g id=\"line2d_8\">\r\n",
       "      <g>\r\n",
       "       <use style=\"stroke:#000000;stroke-width:0.8;\" x=\"324.766125\" xlink:href=\"#md9ffe37117\" y=\"218.244706\"/>\r\n",
       "      </g>\r\n",
       "     </g>\r\n",
       "     <g id=\"text_12\">\r\n",
       "      <!-- 6 -->\r\n",
       "      <g transform=\"translate(331.766125 222.043925)scale(0.1 -0.1)\">\r\n",
       "       <defs>\r\n",
       "        <path d=\"M 33.015625 40.375 \r\n",
       "Q 26.375 40.375 22.484375 35.828125 \r\n",
       "Q 18.609375 31.296875 18.609375 23.390625 \r\n",
       "Q 18.609375 15.53125 22.484375 10.953125 \r\n",
       "Q 26.375 6.390625 33.015625 6.390625 \r\n",
       "Q 39.65625 6.390625 43.53125 10.953125 \r\n",
       "Q 47.40625 15.53125 47.40625 23.390625 \r\n",
       "Q 47.40625 31.296875 43.53125 35.828125 \r\n",
       "Q 39.65625 40.375 33.015625 40.375 \r\n",
       "z\r\n",
       "M 52.59375 71.296875 \r\n",
       "L 52.59375 62.3125 \r\n",
       "Q 48.875 64.0625 45.09375 64.984375 \r\n",
       "Q 41.3125 65.921875 37.59375 65.921875 \r\n",
       "Q 27.828125 65.921875 22.671875 59.328125 \r\n",
       "Q 17.53125 52.734375 16.796875 39.40625 \r\n",
       "Q 19.671875 43.65625 24.015625 45.921875 \r\n",
       "Q 28.375 48.1875 33.59375 48.1875 \r\n",
       "Q 44.578125 48.1875 50.953125 41.515625 \r\n",
       "Q 57.328125 34.859375 57.328125 23.390625 \r\n",
       "Q 57.328125 12.15625 50.6875 5.359375 \r\n",
       "Q 44.046875 -1.421875 33.015625 -1.421875 \r\n",
       "Q 20.359375 -1.421875 13.671875 8.265625 \r\n",
       "Q 6.984375 17.96875 6.984375 36.375 \r\n",
       "Q 6.984375 53.65625 15.1875 63.9375 \r\n",
       "Q 23.390625 74.21875 37.203125 74.21875 \r\n",
       "Q 40.921875 74.21875 44.703125 73.484375 \r\n",
       "Q 48.484375 72.75 52.59375 71.296875 \r\n",
       "z\r\n",
       "\" id=\"DejaVuSans-54\"/>\r\n",
       "       </defs>\r\n",
       "       <use xlink:href=\"#DejaVuSans-54\"/>\r\n",
       "      </g>\r\n",
       "     </g>\r\n",
       "    </g>\r\n",
       "    <g id=\"ytick_7\">\r\n",
       "     <g id=\"line2d_9\">\r\n",
       "      <g>\r\n",
       "       <use style=\"stroke:#000000;stroke-width:0.8;\" x=\"324.766125\" xlink:href=\"#md9ffe37117\" y=\"179.872941\"/>\r\n",
       "      </g>\r\n",
       "     </g>\r\n",
       "     <g id=\"text_13\">\r\n",
       "      <!-- 8 -->\r\n",
       "      <g transform=\"translate(331.766125 183.67216)scale(0.1 -0.1)\">\r\n",
       "       <defs>\r\n",
       "        <path d=\"M 31.78125 34.625 \r\n",
       "Q 24.75 34.625 20.71875 30.859375 \r\n",
       "Q 16.703125 27.09375 16.703125 20.515625 \r\n",
       "Q 16.703125 13.921875 20.71875 10.15625 \r\n",
       "Q 24.75 6.390625 31.78125 6.390625 \r\n",
       "Q 38.8125 6.390625 42.859375 10.171875 \r\n",
       "Q 46.921875 13.96875 46.921875 20.515625 \r\n",
       "Q 46.921875 27.09375 42.890625 30.859375 \r\n",
       "Q 38.875 34.625 31.78125 34.625 \r\n",
       "z\r\n",
       "M 21.921875 38.8125 \r\n",
       "Q 15.578125 40.375 12.03125 44.71875 \r\n",
       "Q 8.5 49.078125 8.5 55.328125 \r\n",
       "Q 8.5 64.0625 14.71875 69.140625 \r\n",
       "Q 20.953125 74.21875 31.78125 74.21875 \r\n",
       "Q 42.671875 74.21875 48.875 69.140625 \r\n",
       "Q 55.078125 64.0625 55.078125 55.328125 \r\n",
       "Q 55.078125 49.078125 51.53125 44.71875 \r\n",
       "Q 48 40.375 41.703125 38.8125 \r\n",
       "Q 48.828125 37.15625 52.796875 32.3125 \r\n",
       "Q 56.78125 27.484375 56.78125 20.515625 \r\n",
       "Q 56.78125 9.90625 50.3125 4.234375 \r\n",
       "Q 43.84375 -1.421875 31.78125 -1.421875 \r\n",
       "Q 19.734375 -1.421875 13.25 4.234375 \r\n",
       "Q 6.78125 9.90625 6.78125 20.515625 \r\n",
       "Q 6.78125 27.484375 10.78125 32.3125 \r\n",
       "Q 14.796875 37.15625 21.921875 38.8125 \r\n",
       "z\r\n",
       "M 18.3125 54.390625 \r\n",
       "Q 18.3125 48.734375 21.84375 45.5625 \r\n",
       "Q 25.390625 42.390625 31.78125 42.390625 \r\n",
       "Q 38.140625 42.390625 41.71875 45.5625 \r\n",
       "Q 45.3125 48.734375 45.3125 54.390625 \r\n",
       "Q 45.3125 60.0625 41.71875 63.234375 \r\n",
       "Q 38.140625 66.40625 31.78125 66.40625 \r\n",
       "Q 25.390625 66.40625 21.84375 63.234375 \r\n",
       "Q 18.3125 60.0625 18.3125 54.390625 \r\n",
       "z\r\n",
       "\" id=\"DejaVuSans-56\"/>\r\n",
       "       </defs>\r\n",
       "       <use xlink:href=\"#DejaVuSans-56\"/>\r\n",
       "      </g>\r\n",
       "     </g>\r\n",
       "    </g>\r\n",
       "    <g id=\"ytick_8\">\r\n",
       "     <g id=\"line2d_10\">\r\n",
       "      <g>\r\n",
       "       <use style=\"stroke:#000000;stroke-width:0.8;\" x=\"324.766125\" xlink:href=\"#md9ffe37117\" y=\"141.501176\"/>\r\n",
       "      </g>\r\n",
       "     </g>\r\n",
       "     <g id=\"text_14\">\r\n",
       "      <!-- 10 -->\r\n",
       "      <g transform=\"translate(331.766125 145.300395)scale(0.1 -0.1)\">\r\n",
       "       <use xlink:href=\"#DejaVuSans-49\"/>\r\n",
       "       <use x=\"63.623047\" xlink:href=\"#DejaVuSans-48\"/>\r\n",
       "      </g>\r\n",
       "     </g>\r\n",
       "    </g>\r\n",
       "    <g id=\"ytick_9\">\r\n",
       "     <g id=\"line2d_11\">\r\n",
       "      <g>\r\n",
       "       <use style=\"stroke:#000000;stroke-width:0.8;\" x=\"324.766125\" xlink:href=\"#md9ffe37117\" y=\"103.129412\"/>\r\n",
       "      </g>\r\n",
       "     </g>\r\n",
       "     <g id=\"text_15\">\r\n",
       "      <!-- 12 -->\r\n",
       "      <g transform=\"translate(331.766125 106.928631)scale(0.1 -0.1)\">\r\n",
       "       <use xlink:href=\"#DejaVuSans-49\"/>\r\n",
       "       <use x=\"63.623047\" xlink:href=\"#DejaVuSans-50\"/>\r\n",
       "      </g>\r\n",
       "     </g>\r\n",
       "    </g>\r\n",
       "    <g id=\"ytick_10\">\r\n",
       "     <g id=\"line2d_12\">\r\n",
       "      <g>\r\n",
       "       <use style=\"stroke:#000000;stroke-width:0.8;\" x=\"324.766125\" xlink:href=\"#md9ffe37117\" y=\"64.757647\"/>\r\n",
       "      </g>\r\n",
       "     </g>\r\n",
       "     <g id=\"text_16\">\r\n",
       "      <!-- 14 -->\r\n",
       "      <g transform=\"translate(331.766125 68.556866)scale(0.1 -0.1)\">\r\n",
       "       <use xlink:href=\"#DejaVuSans-49\"/>\r\n",
       "       <use x=\"63.623047\" xlink:href=\"#DejaVuSans-52\"/>\r\n",
       "      </g>\r\n",
       "     </g>\r\n",
       "    </g>\r\n",
       "    <g id=\"ytick_11\">\r\n",
       "     <g id=\"line2d_13\">\r\n",
       "      <g>\r\n",
       "       <use style=\"stroke:#000000;stroke-width:0.8;\" x=\"324.766125\" xlink:href=\"#md9ffe37117\" y=\"26.385882\"/>\r\n",
       "      </g>\r\n",
       "     </g>\r\n",
       "     <g id=\"text_17\">\r\n",
       "      <!-- 16 -->\r\n",
       "      <g transform=\"translate(331.766125 30.185101)scale(0.1 -0.1)\">\r\n",
       "       <use xlink:href=\"#DejaVuSans-49\"/>\r\n",
       "       <use x=\"63.623047\" xlink:href=\"#DejaVuSans-54\"/>\r\n",
       "      </g>\r\n",
       "     </g>\r\n",
       "    </g>\r\n",
       "   </g>\r\n",
       "   <g id=\"patch_4\">\r\n",
       "    <path d=\"M 308.458125 333.36 \r\n",
       "L 308.458125 332.085937 \r\n",
       "L 308.458125 8.474063 \r\n",
       "L 308.458125 7.2 \r\n",
       "L 324.766125 7.2 \r\n",
       "L 324.766125 8.474063 \r\n",
       "L 324.766125 332.085937 \r\n",
       "L 324.766125 333.36 \r\n",
       "z\r\n",
       "\" style=\"fill:none;\"/>\r\n",
       "   </g>\r\n",
       "  </g>\r\n",
       " </g>\r\n",
       " <defs>\r\n",
       "  <clipPath id=\"pb92eec8e26\">\r\n",
       "   <rect height=\"326.16\" width=\"267.84\" x=\"23.878125\" y=\"7.2\"/>\r\n",
       "  </clipPath>\r\n",
       "  <clipPath id=\"pdb06dc4edc\">\r\n",
       "   <rect height=\"326.16\" width=\"16.308\" x=\"308.458125\" y=\"7.2\"/>\r\n",
       "  </clipPath>\r\n",
       " </defs>\r\n",
       "</svg>\r\n"
      ],
      "text/plain": [
       "<Figure size 432x432 with 2 Axes>"
      ]
     },
     "metadata": {
      "needs_background": "light"
     },
     "output_type": "display_data"
    }
   ],
   "source": [
    "plt.figure(figsize = (6,6))\n",
    "from sklearn.metrics import confusion_matrix\n",
    "cf = confusion_matrix(predicted_class_indices,label)\n",
    "sns.heatmap(cf,cmap= \"Blues\", linecolor = 'black' , annot = True, fmt='')"
   ]
  }
 ],
 "metadata": {
  "kernelspec": {
   "display_name": "Python 3",
   "language": "python",
   "name": "python3"
  },
  "language_info": {
   "codemirror_mode": {
    "name": "ipython",
    "version": 3
   },
   "file_extension": ".py",
   "mimetype": "text/x-python",
   "name": "python",
   "nbconvert_exporter": "python",
   "pygments_lexer": "ipython3",
   "version": "3.6.10"
  },
  "papermill": {
   "duration": 191.88322,
   "end_time": "2020-10-13T03:24:56.853548",
   "environment_variables": {},
   "exception": null,
   "input_path": "__notebook__.ipynb",
   "output_path": "__notebook__.ipynb",
   "parameters": {},
   "start_time": "2020-10-13T03:21:44.970328",
   "version": "2.1.0"
  }
 },
 "nbformat": 4,
 "nbformat_minor": 4
}
